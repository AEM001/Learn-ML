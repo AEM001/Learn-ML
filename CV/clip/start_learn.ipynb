{
 "cells": [
  {
   "cell_type": "code",
   "execution_count": 10,
   "id": "1016e1a6",
   "metadata": {},
   "outputs": [
    {
     "name": "stdout",
     "output_type": "stream",
     "text": [
      "Cache cleanup done.\n"
     ]
    }
   ],
   "source": [
    "import os\n",
    "from pathlib import Path\n",
    "\n",
    "# 设定项目内的 CLIP 权重缓存目录（便于可控与复现）\n",
    "PROJECT_CLIP_DIR = \"/Users/Mac/code/Practice/ML/CV/clip/.models/clip\"\n",
    "os.makedirs(PROJECT_CLIP_DIR, exist_ok=True)\n",
    "\n",
    "# 可选：强制重新下载，先清理默认缓存与项目缓存里的旧权重\n",
    "for p in [\n",
    "    os.path.expanduser(\"~/.cache/clip/ViT-B-32.pt\"),\n",
    "    os.path.expanduser(\"~/.cache/clip/ViT-B-32.pt.gz\"),\n",
    "    os.path.join(PROJECT_CLIP_DIR, \"ViT-B-32.pt\"),\n",
    "    os.path.join(PROJECT_CLIP_DIR, \"ViT-B-32.pt.gz\"),\n",
    "]:\n",
    "    try:\n",
    "        Path(p).unlink()\n",
    "        print(\"Removed:\", p)\n",
    "    except FileNotFoundError:\n",
    "        pass\n",
    "print(\"Cache cleanup done.\")"
   ]
  },
  {
   "cell_type": "code",
   "execution_count": 14,
   "id": "ac481fc0",
   "metadata": {},
   "outputs": [
    {
     "name": "stdout",
     "output_type": "stream",
     "text": [
      "Using device: mps\n"
     ]
    },
    {
     "name": "stderr",
     "output_type": "stream",
     "text": [
      "100%|████████████████████████████████████████| 338M/338M [07:38<00:00, 771kiB/s]\n"
     ]
    }
   ],
   "source": [
    "import os\n",
    "import clip\n",
    "import torch\n",
    "import numpy as np\n",
    "from sklearn.linear_model import LogisticRegression\n",
    "from torch.utils.data import DataLoader\n",
    "from torchvision.datasets import CIFAR100\n",
    "from tqdm import tqdm\n",
    "\n",
    "# 设备优先级：CUDA > MPS(Apple Silicon) > CPU\n",
    "if torch.cuda.is_available():\n",
    "    device = \"cuda\"\n",
    "elif hasattr(torch.backends, \"mps\") and torch.backends.mps.is_available():\n",
    "    device = \"mps\"\n",
    "else:\n",
    "    device = \"cpu\"\n",
    "print(\"Using device:\", device)\n",
    "\n",
    "# 对 MPS，禁用 jit 更稳定；同时把模型放到对应设备\n",
    "model, preprocess = clip.load(\n",
    "    \"ViT-B/32\",\n",
    "    device=device,\n",
    "    jit=False,  # MPS 更稳定\n",
    "    download_root=PROJECT_CLIP_DIR\n",
    ")\n",
    "model.eval()\n",
    "\n",
    "root = os.path.expanduser(\"/Users/Mac/code/Practice/ML/CV/clip\")\n",
    "train = CIFAR100(root, download=True, train=True, transform=preprocess)\n",
    "test = CIFAR100(root, download=True, train=False, transform=preprocess)\n",
    "\n",
    "# 简单的批大小/加载器参数按设备调整\n",
    "BATCH_SIZE = 256 if device == \"cuda\" else (128 if device == \"mps\" else 64)\n",
    "NUM_WORKERS = min(4, os.cpu_count() or 2)\n",
    "PIN_MEMORY = device == \"cuda\"  # 仅对 CUDA 有效"
   ]
  },
  {
   "cell_type": "markdown",
   "id": "b84f2d1f",
   "metadata": {},
   "source": [
    "transform: 对样本的图像部分进行预处理的函数或 torchvision.transforms 组合。  \n",
    "在你代码里传入的是 preprocess，它来自 model, preprocess = clip.load(\"ViT-B/32\", ...).  \n",
    "这个 preprocess 是 CLIP 官方为该模型准备的图像变换流水线，通常包含：  \n",
    "resize 到模型输入分辨率（ViT-B/32 为 224）；  \n",
    "中心裁剪；  \n",
    "转成张量；  \n",
    "用 CLIP 的 mean/std 进行归一化。  \n",
    "作用：保证送入 model.encode_image() 的张量与 CLIP 预训练时的分布一致，避免精度损失。"
   ]
  },
  {
   "cell_type": "code",
   "execution_count": 15,
   "id": "6ad7dec1",
   "metadata": {},
   "outputs": [],
   "source": [
    "def get_features(dataset, batch_size=BATCH_SIZE):\n",
    "    all_features = []\n",
    "    all_labels = []\n",
    "\n",
    "    loader = DataLoader(\n",
    "        dataset,\n",
    "        batch_size=batch_size,\n",
    "        shuffle=False,\n",
    "        num_workers=NUM_WORKERS,\n",
    "        pin_memory=PIN_MEMORY,\n",
    "        persistent_workers=NUM_WORKERS > 0,\n",
    "    )\n",
    "\n",
    "    with torch.no_grad():\n",
    "        for images, labels in tqdm(loader):\n",
    "            images = images.to(device, non_blocking=PIN_MEMORY)\n",
    "            features = model.encode_image(images)\n",
    "            all_features.append(features.cpu())   # 及时回收显存/MPS 内存\n",
    "            all_labels.append(labels)\n",
    "\n",
    "    return torch.cat(all_features).numpy(), torch.cat(all_labels).numpy()"
   ]
  },
  {
   "cell_type": "code",
   "execution_count": 16,
   "id": "15f91e63",
   "metadata": {},
   "outputs": [
    {
     "name": "stderr",
     "output_type": "stream",
     "text": [
      "  0%|          | 1/391 [00:26<2:51:36, 26.40s/it]"
     ]
    },
    {
     "ename": "",
     "evalue": "",
     "output_type": "error",
     "traceback": [
      "\u001b[1;31mThe Kernel crashed while executing code in the current cell or a previous cell. \n",
      "\u001b[1;31mPlease review the code in the cell(s) to identify a possible cause of the failure. \n",
      "\u001b[1;31mClick <a href='https://aka.ms/vscodeJupyterKernelCrash'>here</a> for more info. \n",
      "\u001b[1;31mView Jupyter <a href='command:jupyter.viewOutput'>log</a> for further details."
     ]
    }
   ],
   "source": [
    "train_features, train_labels = get_features(train)\n",
    "test_features, test_labels = get_features(test)\n",
    "\n",
    "classifier = LogisticRegression(random_state=0, C=0.316, max_iter=1000, verbose=1)\n",
    "classifier.fit(train_features, train_labels)\n",
    "\n",
    "predictions = classifier.predict(test_features)\n",
    "accuracy = np.mean((test_labels == predictions).astype(float)) * 100.0\n",
    "print(f\"Accuracy = {accuracy:.3f}\")"
   ]
  }
 ],
 "metadata": {
  "kernelspec": {
   "display_name": "base",
   "language": "python",
   "name": "python3"
  },
  "language_info": {
   "codemirror_mode": {
    "name": "ipython",
    "version": 3
   },
   "file_extension": ".py",
   "mimetype": "text/x-python",
   "name": "python",
   "nbconvert_exporter": "python",
   "pygments_lexer": "ipython3",
   "version": "3.13.2"
  }
 },
 "nbformat": 4,
 "nbformat_minor": 5
}
